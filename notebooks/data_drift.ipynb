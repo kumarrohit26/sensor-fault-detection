{
 "cells": [
  {
   "cell_type": "markdown",
   "metadata": {},
   "source": [
    "## Code to check data drift"
   ]
  },
  {
   "cell_type": "code",
   "execution_count": 2,
   "metadata": {},
   "outputs": [],
   "source": [
    "from scipy.stats import ks_2samp\n",
    "import numpy as np"
   ]
  },
  {
   "cell_type": "code",
   "execution_count": 9,
   "metadata": {},
   "outputs": [],
   "source": [
    "d1 = np.arange(100, 200)\n",
    "d2 = np.arange(10)"
   ]
  },
  {
   "cell_type": "code",
   "execution_count": 4,
   "metadata": {},
   "outputs": [
    {
     "data": {
      "text/plain": [
       "array([0, 1, 2, 3, 4, 5, 6, 7, 8, 9])"
      ]
     },
     "execution_count": 4,
     "metadata": {},
     "output_type": "execute_result"
    }
   ],
   "source": [
    "d1"
   ]
  },
  {
   "cell_type": "code",
   "execution_count": 5,
   "metadata": {},
   "outputs": [
    {
     "data": {
      "text/plain": [
       "array([0, 1, 2, 3, 4, 5, 6, 7, 8, 9])"
      ]
     },
     "execution_count": 5,
     "metadata": {},
     "output_type": "execute_result"
    }
   ],
   "source": [
    "d2"
   ]
  },
  {
   "cell_type": "code",
   "execution_count": 11,
   "metadata": {},
   "outputs": [],
   "source": [
    "test = ks_2samp(d1,d2)"
   ]
  },
  {
   "cell_type": "code",
   "execution_count": 13,
   "metadata": {},
   "outputs": [
    {
     "data": {
      "text/plain": [
       "0"
      ]
     },
     "execution_count": 13,
     "metadata": {},
     "output_type": "execute_result"
    }
   ],
   "source": [
    "round(test.pvalue)"
   ]
  },
  {
   "cell_type": "code",
   "execution_count": 14,
   "metadata": {},
   "outputs": [],
   "source": [
    "train_file_path = '../artifact/2023_11_04_02_52_59/data_ingetion/ingested/train.csv'\n",
    "test_file_path = '../artifact/2023_11_04_02_52_59/data_ingetion/ingested/test.csv'"
   ]
  },
  {
   "cell_type": "code",
   "execution_count": 15,
   "metadata": {},
   "outputs": [],
   "source": [
    "import pandas as pd"
   ]
  },
  {
   "cell_type": "code",
   "execution_count": 16,
   "metadata": {},
   "outputs": [],
   "source": [
    "train_df = pd.read_csv(train_file_path)\n",
    "test_df = pd.read_csv(test_file_path)"
   ]
  },
  {
   "cell_type": "code",
   "execution_count": 21,
   "metadata": {},
   "outputs": [],
   "source": [
    "d1 = train_df['class']\n",
    "d2 = test_df['class']"
   ]
  },
  {
   "cell_type": "code",
   "execution_count": 22,
   "metadata": {},
   "outputs": [],
   "source": [
    "test = ks_2samp(d1, d2)"
   ]
  },
  {
   "cell_type": "code",
   "execution_count": 23,
   "metadata": {},
   "outputs": [
    {
     "data": {
      "text/plain": [
       "1.0"
      ]
     },
     "execution_count": 23,
     "metadata": {},
     "output_type": "execute_result"
    }
   ],
   "source": [
    "(test.pvalue)"
   ]
  },
  {
   "cell_type": "code",
   "execution_count": 30,
   "metadata": {},
   "outputs": [],
   "source": [
    "def get_drift_report(base_df, current_df, threshold=0.5):\n",
    "    report = {}\n",
    "    for column in base_df.columns:\n",
    "        d1 = base_df[column]\n",
    "        d2 = current_df[column]\n",
    "        is_same_dist = ks_2samp(d1, d2)\n",
    "        if threshold <= is_same_dist.pvalue:\n",
    "            is_found = False\n",
    "        else:\n",
    "            is_found = True\n",
    "        report.update({column:{\n",
    "                'p_value': float(is_same_dist.pvalue),\n",
    "                'drift_status': is_found\n",
    "            }})\n",
    "    return report"
   ]
  },
  {
   "cell_type": "code",
   "execution_count": 31,
   "metadata": {},
   "outputs": [],
   "source": [
    "report = get_drift_report(train_df, test_df)"
   ]
  },
  {
   "cell_type": "code",
   "execution_count": 32,
   "metadata": {},
   "outputs": [
    {
     "data": {
      "text/plain": [
       "{'class': {'p_value': 1.0, 'drift_status': False},\n",
       " 'aa_000': {'p_value': 0.3689321649138302, 'drift_status': True},\n",
       " 'ab_000': {'p_value': 1.0, 'drift_status': False},\n",
       " 'ac_000': {'p_value': 0.7990395519011866, 'drift_status': False},\n",
       " 'ad_000': {'p_value': 0.8754428110179373, 'drift_status': False},\n",
       " 'ae_000': {'p_value': 0.8151024387184218, 'drift_status': False},\n",
       " 'af_000': {'p_value': 0.8746123187048661, 'drift_status': False},\n",
       " 'ag_000': {'p_value': 1.0, 'drift_status': False},\n",
       " 'ag_001': {'p_value': 1.0, 'drift_status': False},\n",
       " 'ag_002': {'p_value': 0.9999997902635098, 'drift_status': False},\n",
       " 'ag_003': {'p_value': 0.9136264573563411, 'drift_status': False},\n",
       " 'ag_004': {'p_value': 0.6232179893143508, 'drift_status': False},\n",
       " 'ag_005': {'p_value': 0.7607131524710697, 'drift_status': False},\n",
       " 'ag_006': {'p_value': 0.9395663949263219, 'drift_status': False},\n",
       " 'ag_007': {'p_value': 0.9257581930880555, 'drift_status': False},\n",
       " 'ag_008': {'p_value': 0.5770267225361658, 'drift_status': False},\n",
       " 'ag_009': {'p_value': 0.8012637115778328, 'drift_status': False},\n",
       " 'ah_000': {'p_value': 0.6935125627286702, 'drift_status': False},\n",
       " 'ai_000': {'p_value': 0.9999736661930637, 'drift_status': False},\n",
       " 'aj_000': {'p_value': 0.9439866868979407, 'drift_status': False},\n",
       " 'ak_000': {'p_value': 1.0, 'drift_status': False},\n",
       " 'al_000': {'p_value': 0.9006685375569987, 'drift_status': False},\n",
       " 'am_0': {'p_value': 0.9288539578038533, 'drift_status': False},\n",
       " 'an_000': {'p_value': 0.7116930934115104, 'drift_status': False},\n",
       " 'ao_000': {'p_value': 0.6243195620572219, 'drift_status': False},\n",
       " 'ap_000': {'p_value': 0.8957160494918642, 'drift_status': False},\n",
       " 'aq_000': {'p_value': 0.9302864277897145, 'drift_status': False},\n",
       " 'ar_000': {'p_value': 0.9021805617378572, 'drift_status': False},\n",
       " 'as_000': {'p_value': 1.0, 'drift_status': False},\n",
       " 'at_000': {'p_value': 0.9952002924600084, 'drift_status': False},\n",
       " 'au_000': {'p_value': 1.0, 'drift_status': False},\n",
       " 'av_000': {'p_value': 0.17731834758515042, 'drift_status': True},\n",
       " 'ax_000': {'p_value': 0.5348738269807454, 'drift_status': False},\n",
       " 'ay_000': {'p_value': 1.0, 'drift_status': False},\n",
       " 'ay_001': {'p_value': 1.0, 'drift_status': False},\n",
       " 'ay_002': {'p_value': 1.0, 'drift_status': False},\n",
       " 'ay_003': {'p_value': 1.0, 'drift_status': False},\n",
       " 'ay_004': {'p_value': 0.9991169990685752, 'drift_status': False},\n",
       " 'ay_005': {'p_value': 0.25736742080597685, 'drift_status': True},\n",
       " 'ay_006': {'p_value': 0.7138853852895001, 'drift_status': False},\n",
       " 'ay_007': {'p_value': 0.6481622211686777, 'drift_status': False},\n",
       " 'ay_008': {'p_value': 0.7797678196828371, 'drift_status': False},\n",
       " 'ay_009': {'p_value': 1.0, 'drift_status': False},\n",
       " 'az_000': {'p_value': 0.9830801913193924, 'drift_status': False},\n",
       " 'az_001': {'p_value': 0.9398162741850394, 'drift_status': False},\n",
       " 'az_002': {'p_value': 0.9721158441019434, 'drift_status': False},\n",
       " 'az_003': {'p_value': 0.8722544639077318, 'drift_status': False},\n",
       " 'az_004': {'p_value': 0.804997616709341, 'drift_status': False},\n",
       " 'az_005': {'p_value': 0.9831075604379852, 'drift_status': False},\n",
       " 'az_006': {'p_value': 0.3010222873659617, 'drift_status': True},\n",
       " 'az_007': {'p_value': 0.9796726703217141, 'drift_status': False},\n",
       " 'az_008': {'p_value': 0.9999999999632866, 'drift_status': False},\n",
       " 'az_009': {'p_value': 0.9999999624779605, 'drift_status': False},\n",
       " 'ba_000': {'p_value': 0.9475743305826828, 'drift_status': False},\n",
       " 'ba_001': {'p_value': 0.9729301790022145, 'drift_status': False},\n",
       " 'ba_002': {'p_value': 0.9181063587578626, 'drift_status': False},\n",
       " 'ba_003': {'p_value': 0.7688676001956554, 'drift_status': False},\n",
       " 'ba_004': {'p_value': 0.5532284434319376, 'drift_status': False},\n",
       " 'ba_005': {'p_value': 0.810529885551413, 'drift_status': False},\n",
       " 'ba_006': {'p_value': 0.9275535630204451, 'drift_status': False},\n",
       " 'ba_007': {'p_value': 0.24367079244223944, 'drift_status': True},\n",
       " 'ba_008': {'p_value': 0.5891846692165292, 'drift_status': False},\n",
       " 'ba_009': {'p_value': 0.9133062998993965, 'drift_status': False},\n",
       " 'bb_000': {'p_value': 0.5013234371368004, 'drift_status': False},\n",
       " 'bc_000': {'p_value': 0.1934706202511962, 'drift_status': True},\n",
       " 'bd_000': {'p_value': 0.758807801237294, 'drift_status': False},\n",
       " 'be_000': {'p_value': 0.3425131164235441, 'drift_status': True},\n",
       " 'bf_000': {'p_value': 0.8239739210954568, 'drift_status': False},\n",
       " 'bg_000': {'p_value': 0.7024578692533507, 'drift_status': False},\n",
       " 'bh_000': {'p_value': 0.9065323398008788, 'drift_status': False},\n",
       " 'bi_000': {'p_value': 0.36293411711015944, 'drift_status': True},\n",
       " 'bj_000': {'p_value': 0.9781111640717312, 'drift_status': False},\n",
       " 'bk_000': {'p_value': 0.963940414553764, 'drift_status': False},\n",
       " 'bl_000': {'p_value': 0.931374660563828, 'drift_status': False},\n",
       " 'bm_000': {'p_value': 0.7538257680786974, 'drift_status': False},\n",
       " 'bn_000': {'p_value': 0.99999962035101, 'drift_status': False},\n",
       " 'bo_000': {'p_value': 0.9993435085447743, 'drift_status': False},\n",
       " 'bp_000': {'p_value': 0.999996916840147, 'drift_status': False},\n",
       " 'bq_000': {'p_value': 0.9984766285646018, 'drift_status': False},\n",
       " 'br_000': {'p_value': 0.999990804379573, 'drift_status': False},\n",
       " 'bs_000': {'p_value': 0.4576204530097081, 'drift_status': True},\n",
       " 'bt_000': {'p_value': 0.3924448715885901, 'drift_status': True},\n",
       " 'bu_000': {'p_value': 0.550668039608218, 'drift_status': False},\n",
       " 'bv_000': {'p_value': 0.550668039608218, 'drift_status': False},\n",
       " 'bx_000': {'p_value': 0.9330043036746597, 'drift_status': False},\n",
       " 'by_000': {'p_value': 0.6262082915849697, 'drift_status': False},\n",
       " 'bz_000': {'p_value': 0.25216453110593906, 'drift_status': True},\n",
       " 'ca_000': {'p_value': 0.7284463783371189, 'drift_status': False},\n",
       " 'cb_000': {'p_value': 0.7935190300041299, 'drift_status': False},\n",
       " 'cc_000': {'p_value': 0.9557858293832656, 'drift_status': False},\n",
       " 'cd_000': {'p_value': 1.0, 'drift_status': False},\n",
       " 'ce_000': {'p_value': 0.2674311001867826, 'drift_status': True},\n",
       " 'cf_000': {'p_value': 0.9996714505265587, 'drift_status': False},\n",
       " 'cg_000': {'p_value': 0.6561313756390641, 'drift_status': False},\n",
       " 'ch_000': {'p_value': 0.9999703962472055, 'drift_status': False},\n",
       " 'ci_000': {'p_value': 0.7205223553155983, 'drift_status': False},\n",
       " 'cj_000': {'p_value': 0.9393698630600549, 'drift_status': False},\n",
       " 'ck_000': {'p_value': 0.9991531590257869, 'drift_status': False},\n",
       " 'cl_000': {'p_value': 0.9999987858539757, 'drift_status': False},\n",
       " 'cm_000': {'p_value': 0.9999982973175325, 'drift_status': False},\n",
       " 'cn_000': {'p_value': 0.9999999419925486, 'drift_status': False},\n",
       " 'cn_001': {'p_value': 0.9996105529541177, 'drift_status': False},\n",
       " 'cn_002': {'p_value': 0.7140124981088726, 'drift_status': False},\n",
       " 'cn_003': {'p_value': 0.5307970118183885, 'drift_status': False},\n",
       " 'cn_004': {'p_value': 0.4622830863404013, 'drift_status': True},\n",
       " 'cn_005': {'p_value': 0.9376770833389009, 'drift_status': False},\n",
       " 'cn_006': {'p_value': 0.39498303909892185, 'drift_status': True},\n",
       " 'cn_007': {'p_value': 0.2727687992660377, 'drift_status': True},\n",
       " 'cn_008': {'p_value': 0.35702309094284823, 'drift_status': True},\n",
       " 'cn_009': {'p_value': 0.23695658404218856, 'drift_status': True},\n",
       " 'co_000': {'p_value': 0.17285967133429547, 'drift_status': True},\n",
       " 'cp_000': {'p_value': 0.054028149215762156, 'drift_status': True},\n",
       " 'cq_000': {'p_value': 0.550668039608218, 'drift_status': False},\n",
       " 'cr_000': {'p_value': 1.0, 'drift_status': False},\n",
       " 'cs_000': {'p_value': 0.8695320616610475, 'drift_status': False},\n",
       " 'cs_001': {'p_value': 0.7466360901940325, 'drift_status': False},\n",
       " 'cs_002': {'p_value': 0.9365632125171858, 'drift_status': False},\n",
       " 'cs_003': {'p_value': 0.7266388149717294, 'drift_status': False},\n",
       " 'cs_004': {'p_value': 0.9107248303099861, 'drift_status': False},\n",
       " 'cs_005': {'p_value': 0.5818278989254343, 'drift_status': False},\n",
       " 'cs_006': {'p_value': 0.9640410626940451, 'drift_status': False},\n",
       " 'cs_007': {'p_value': 0.7185124766910953, 'drift_status': False},\n",
       " 'cs_008': {'p_value': 0.42397778373506245, 'drift_status': True},\n",
       " 'cs_009': {'p_value': 1.0, 'drift_status': False},\n",
       " 'ct_000': {'p_value': 0.9366011090091652, 'drift_status': False},\n",
       " 'cu_000': {'p_value': 0.6689178749749292, 'drift_status': False},\n",
       " 'cv_000': {'p_value': 0.868053358654911, 'drift_status': False},\n",
       " 'cx_000': {'p_value': 0.7209444174261913, 'drift_status': False},\n",
       " 'cy_000': {'p_value': 0.999967820116322, 'drift_status': False},\n",
       " 'cz_000': {'p_value': 0.9989409162279731, 'drift_status': False},\n",
       " 'da_000': {'p_value': 1.0, 'drift_status': False},\n",
       " 'db_000': {'p_value': 0.9754883121411388, 'drift_status': False},\n",
       " 'dc_000': {'p_value': 0.9804087314144566, 'drift_status': False},\n",
       " 'dd_000': {'p_value': 0.7289660946999157, 'drift_status': False},\n",
       " 'de_000': {'p_value': 0.8103780325974963, 'drift_status': False},\n",
       " 'df_000': {'p_value': 1.0, 'drift_status': False},\n",
       " 'dg_000': {'p_value': 0.9999999999999993, 'drift_status': False},\n",
       " 'dh_000': {'p_value': 0.7430713194313842, 'drift_status': False},\n",
       " 'di_000': {'p_value': 0.44838911824045913, 'drift_status': True},\n",
       " 'dj_000': {'p_value': 0.9999999999999976, 'drift_status': False},\n",
       " 'dk_000': {'p_value': 1.0, 'drift_status': False},\n",
       " 'dl_000': {'p_value': 0.9999999954163854, 'drift_status': False},\n",
       " 'dm_000': {'p_value': 0.9999999999772942, 'drift_status': False},\n",
       " 'dn_000': {'p_value': 0.7331596535110277, 'drift_status': False},\n",
       " 'do_000': {'p_value': 0.3902967164320341, 'drift_status': True},\n",
       " 'dp_000': {'p_value': 0.674703245212964, 'drift_status': False},\n",
       " 'dq_000': {'p_value': 0.3280623294761743, 'drift_status': True},\n",
       " 'dr_000': {'p_value': 0.2828203773036785, 'drift_status': True},\n",
       " 'ds_000': {'p_value': 0.5054753951675115, 'drift_status': False},\n",
       " 'dt_000': {'p_value': 0.692346587081481, 'drift_status': False},\n",
       " 'du_000': {'p_value': 0.2826862523480338, 'drift_status': True},\n",
       " 'dv_000': {'p_value': 0.4947945648332247, 'drift_status': True},\n",
       " 'dx_000': {'p_value': 0.05246350559039625, 'drift_status': True},\n",
       " 'dy_000': {'p_value': 0.01961775689995192, 'drift_status': True},\n",
       " 'dz_000': {'p_value': 0.9222664018631032, 'drift_status': False},\n",
       " 'ea_000': {'p_value': 0.8112060226155114, 'drift_status': False},\n",
       " 'eb_000': {'p_value': 0.4821972012916117, 'drift_status': True},\n",
       " 'ec_00': {'p_value': 0.9902235248717277, 'drift_status': False},\n",
       " 'ed_000': {'p_value': 0.9411062391353202, 'drift_status': False},\n",
       " 'ee_000': {'p_value': 0.9877951197754524, 'drift_status': False},\n",
       " 'ee_001': {'p_value': 0.897321604552466, 'drift_status': False},\n",
       " 'ee_002': {'p_value': 0.963644300131976, 'drift_status': False},\n",
       " 'ee_003': {'p_value': 0.8216018699809792, 'drift_status': False},\n",
       " 'ee_004': {'p_value': 0.3445932643774905, 'drift_status': True},\n",
       " 'ee_005': {'p_value': 0.3168215642236486, 'drift_status': True},\n",
       " 'ee_006': {'p_value': 0.40028764417975904, 'drift_status': True},\n",
       " 'ee_007': {'p_value': 0.7533665733490077, 'drift_status': False},\n",
       " 'ee_008': {'p_value': 0.6500055518369243, 'drift_status': False},\n",
       " 'ee_009': {'p_value': 0.6403527762768912, 'drift_status': False},\n",
       " 'ef_000': {'p_value': 0.8730201682096963, 'drift_status': False},\n",
       " 'eg_000': {'p_value': 0.884776624336617, 'drift_status': False}}"
      ]
     },
     "execution_count": 32,
     "metadata": {},
     "output_type": "execute_result"
    }
   ],
   "source": [
    "report"
   ]
  }
 ],
 "metadata": {
  "kernelspec": {
   "display_name": "Python 3",
   "language": "python",
   "name": "python3"
  },
  "language_info": {
   "codemirror_mode": {
    "name": "ipython",
    "version": 3
   },
   "file_extension": ".py",
   "mimetype": "text/x-python",
   "name": "python",
   "nbconvert_exporter": "python",
   "pygments_lexer": "ipython3",
   "version": "3.8.0"
  }
 },
 "nbformat": 4,
 "nbformat_minor": 2
}
